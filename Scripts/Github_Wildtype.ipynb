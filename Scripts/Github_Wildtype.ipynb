{
 "cells": [
  {
   "cell_type": "markdown",
   "metadata": {},
   "source": [
    "# Wildtype Simulation"
   ]
  },
  {
   "cell_type": "markdown",
   "metadata": {},
   "source": [
    "1.1. Basic Python Libraries"
   ]
  },
  {
   "cell_type": "code",
   "execution_count": null,
   "metadata": {},
   "outputs": [],
   "source": [
    "import cobra\n",
    "import cobra.test\n",
    "import os\n",
    "import os.path\n",
    "import pandas as pd\n",
    "import numpy as np\n",
    "import json\n",
    "import matplotlib.pyplot as plt\n",
    "import sys\n",
    "from time import time\n",
    "from os.path import join\n",
    "from cobra.util.solver import linear_reaction_coefficients\n",
    "from cobra.flux_analysis import flux_variability_analysis\n",
    "from cobra.flux_analysis import (\n",
    "    single_gene_deletion, single_reaction_deletion, double_gene_deletion,\n",
    "    double_reaction_deletion)\n",
    "\n",
    "import escher\n",
    "from escher import Builder\n",
    "from time import sleep"
   ]
  },
  {
   "cell_type": "markdown",
   "metadata": {},
   "source": [
    "1.2. Model upload and analysis"
   ]
  },
  {
   "cell_type": "code",
   "execution_count": null,
   "metadata": {},
   "outputs": [],
   "source": [
    "data_dir = \"models\"\n",
    "model = cobra.io.read_sbml_model(join(data_dir,\"D:/Anaconda/models/iMM904SL_v6.xml\"))\n",
    "stoich_matrix = cobra.util.create_stoichiometric_matrix(model)\n",
    "plt.spy(stoich_matrix, precision=0.01, markersize=.5)\n",
    "plt.xlabel('?..?');\n",
    "plt.ylabel('?..?');\n",
    "model\n",
    "model.objective = \"biomass_SC5_notrace\"\n",
    "print(model.objective)"
   ]
  },
  {
   "cell_type": "markdown",
   "metadata": {},
   "source": [
    "1.3. Enviornmental Conditions"
   ]
  },
  {
   "cell_type": "code",
   "execution_count": null,
   "metadata": {},
   "outputs": [],
   "source": [
    "\n",
    "    # Anaerobic Conditions #\n",
    "model.reactions.EX_o2_e_.lower_bound = -2\n",
    "model.reactions.EX_o2_e_.upper_bound = 0\n",
    "\n",
    "#Glucose\n",
    "model.reactions.EX_glc_e_.lower_bound = -17.67\n",
    "model.reactions.EX_glc_e_.upper_bound = -14.95\n",
    "\n",
    "#Ala\n",
    "model.reactions.EX_ala_L_e_.lower_bound = -0.0742\n",
    "\n",
    "#Arg\n",
    "model.reactions.EX_arg_L_e_.lower_bound = -0.1554\n",
    "\n",
    "#Asp\n",
    "model.reactions.EX_asn_L_e_.lower_bound = -0.0356\n",
    "\n",
    "#Cys\n",
    "model.reactions.EX_cys_L_e_.lower_bound = -0.0033\n",
    "\n",
    "#Gln\n",
    "model.reactions.EX_gln_L_e_.lower_bound = -0.1619\n",
    "\n",
    "#Glu\n",
    "model.reactions.EX_glu_L_e_.lower_bound = -0.0478\n",
    "\n",
    "#Gly\n",
    "model.reactions.EX_gly_e_.lower_bound = -0.004\n",
    "\n",
    "#His\n",
    "model.reactions.EX_his_L_e_.lower_bound = -0.0021\n",
    "\n",
    "#Ile\n",
    "model.reactions.EX_ile_L_e_.lower_bound = -0.0233\n",
    "\n",
    "#Leu\n",
    "model.reactions.EX_leu_L_e_.lower_bound = -0.0373\n",
    "\n",
    "#Lys\n",
    "model.reactions.EX_lys_L_e_.lower_bound = -0.0191\n",
    "\n",
    "#Met\n",
    "model.reactions.EX_met_L_e_.lower_bound = -0.0169\n",
    "\n",
    "#NH4\n",
    "#model.reactions.EX_nh4_e_.lower_bound = -0.53\n",
    "\n",
    "#Phe\n",
    "model.reactions.EX_phe_L_e_.lower_bound = -0.0186\n",
    "\n",
    "#Ser\n",
    "model.reactions.EX_ser_L_e_.lower_bound = -0.0653\n",
    "\n",
    "#Thr\n",
    "model.reactions.EX_thr_L_e_.lower_bound = -0.0574\n",
    "\n",
    "#Trp\n",
    "model.reactions.EX_trp_L_e_.lower_bound = -0.0106\n",
    "\n",
    "#Tyr\n",
    "model.reactions.EX_tyr_L_e_.lower_bound = -0.0027\n",
    "\n",
    "#Val\n",
    "model.reactions.EX_val_L_e_.lower_bound = -0.0269\n",
    "\n"
   ]
  },
  {
   "cell_type": "code",
   "execution_count": null,
   "metadata": {},
   "outputs": [],
   "source": [
    "\n",
    "  # Anaerobic Conditions #\n",
    "reactions_OE = [model.reactions.EX_o2_e_]\n",
    "#o2 = flux_variability_analysis(model, reaction_list = reactions_OE,\n",
    "#fraction_of_optimum=0.99)\n",
    "#print(o2)  \n",
    "print(model.reactions.EX_o2_e_.bounds)\n",
    "print(model.objective)\n"
   ]
  },
  {
   "cell_type": "markdown",
   "metadata": {},
   "source": [
    "1.4. Simulation of optimal growth and summary methods"
   ]
  },
  {
   "cell_type": "code",
   "execution_count": null,
   "metadata": {},
   "outputs": [],
   "source": [
    "reactions = [model.reactions.EX_glc_e_, model.reactions.EX_glyc_e_, model.reactions.EX_etoh_e_, model.reactions.EX_succ_e_, model.reactions.EX_aces_e_, model.reactions.EX_lac_L_e_, model.reactions.EX_ala_L_e_, model.reactions.EX_arg_L_e_, model.reactions.EX_asn_L_e_, model.reactions.EX_cys_L_e_, model.reactions.EX_gln_L_e_, model.reactions.EX_glu_L_e_, model.reactions.EX_gly_e_, model.reactions.EX_his_L_e_, model.reactions.EX_ile_L_e_, model.reactions.EX_leu_L_e_, model.reactions.EX_lys_L_e_, model.reactions.EX_met_L_e_, model.reactions.EX_nh4_e_, model.reactions.EX_phe_L_e_, model.reactions.EX_ser_L_e_, model.reactions.EX_thr_L_e_, model.reactions.EX_trp_L_e_, model.reactions.EX_tyr_L_e_, model.reactions.EX_val_L_e_, model.reactions.EX_2mbtoh_e_, model.reactions.EX_iamoh_e_, model.reactions.EX_ibutoh_e_, model.reactions.EX_2phetoh_e_, model.reactions.EX_co2_e_]\n",
    "\n",
    "fva=cobra.flux_analysis.flux_variability_analysis(\n",
    "    model, reaction_list=reactions, fraction_of_optimum=0.99)\n",
    "\n",
    "sys.stdout=open(\"wildtype_fva.txt\",\"w\")\n",
    "print(fva)\n",
    "sys.stdout.close()"
   ]
  },
  {
   "cell_type": "code",
   "execution_count": null,
   "metadata": {},
   "outputs": [],
   "source": [
    "solution = model.optimize()\n",
    "#biomass = model.summary() \n",
    "#print(biomass)\n",
    "sys.stdout=open(\"wildtype_fba.txt\",\"w\")\n",
    "print('Fluxes',solution.fluxes['EX_glc_e_'], solution.fluxes['EX_glyc_e_'], solution.fluxes['EX_etoh_e_'], solution.fluxes['EX_succ_e_'], solution.fluxes['EX_aces_e_'], solution.fluxes['EX_lac_L_e_'], solution.fluxes['EX_ala_L_e_'], solution.fluxes['EX_arg_L_e_'], solution.fluxes['EX_asn_L_e_'], solution.fluxes['EX_cys_L_e_'], solution.fluxes['EX_gln_L_e_'], solution.fluxes['EX_glu_L_e_'], solution.fluxes['EX_gly_e_'], solution.fluxes['EX_his_L_e_'], solution.fluxes['EX_ile_L_e_'], solution.fluxes['EX_leu_L_e_'], solution.fluxes['EX_lys_L_e_'], solution.fluxes['EX_met_L_e_'], solution.fluxes['EX_nh4_e_'], solution.fluxes['EX_phe_L_e_'], solution.fluxes['EX_ser_L_e_'], solution.fluxes['EX_thr_L_e_'], solution.fluxes['EX_trp_L_e_'], solution.fluxes['EX_tyr_L_e_'], solution.fluxes['EX_val_L_e_'], solution.fluxes['EX_2mbtoh_e_'], solution.fluxes['EX_iamoh_e_'], solution.fluxes['EX_ibutoh_e_'], solution.fluxes['EX_2phetoh_e_'], solution.fluxes['EX_co2_e_'], sep=\"\\n\")\n",
    "sys.stdout.close()\n",
    "print('Biomass:', solution )"
   ]
  },
  {
   "cell_type": "code",
   "execution_count": null,
   "metadata": {},
   "outputs": [],
   "source": [
    "#sys.stdout=open(\"WT_biomass.txt\",\"w\")\n",
    "print('Wild-type', model.reactions.biomass_SC5_notrace.flux)\n",
    "#sys.stdout.close()"
   ]
  },
  {
   "cell_type": "markdown",
   "metadata": {},
   "source": [
    "1.5. Escher Vizualization"
   ]
  },
  {
   "cell_type": "code",
   "execution_count": null,
   "metadata": {},
   "outputs": [],
   "source": [
    "builder = Builder()\n",
    "\n",
    "builder = Builder(\n",
    "    map_json='model1.json'\n",
    "    \n",
    ")\n",
    "\n",
    "builder.model = model\n",
    "builder.reaction_data = solution.fluxes\n",
    "builder.reaction_scale_preset = 'GeGaRd'\n",
    "builder.save_html('C:\\\\Users\\\\João Magalhães\\\\Desktop\\\\Dissertação\\\\SilicoLife\\\\Simulations\\Wildtype\\\\layout.html')\n",
    "builder"
   ]
  }
 ],
 "metadata": {
  "kernelspec": {
   "display_name": "Python 3",
   "language": "python",
   "name": "python3"
  },
  "language_info": {
   "codemirror_mode": {
    "name": "ipython",
    "version": 3
   },
   "file_extension": ".py",
   "mimetype": "text/x-python",
   "name": "python",
   "nbconvert_exporter": "python",
   "pygments_lexer": "ipython3",
   "version": "3.8.3"
  }
 },
 "nbformat": 4,
 "nbformat_minor": 4
}
